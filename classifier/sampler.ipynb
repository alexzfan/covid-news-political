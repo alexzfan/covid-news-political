{
 "cells": [
  {
   "cell_type": "code",
   "execution_count": 1,
   "metadata": {},
   "outputs": [],
   "source": [
    "import os\n",
    "import spacy\n",
    "import re\n",
    "import random\n",
    "import csv\n",
    "import pandas as pd"
   ]
  },
  {
   "cell_type": "code",
   "execution_count": null,
   "metadata": {},
   "outputs": [],
   "source": [
    "main_folder = \"./all_news/\""
   ]
  },
  {
   "cell_type": "code",
   "execution_count": null,
   "metadata": {},
   "outputs": [],
   "source": [
    "docs = []\n",
    "for doc in os.listdir(main_folder):\n",
    "    path = main_folder + doc\n",
    "    docs.append(path + '')"
   ]
  },
  {
   "cell_type": "code",
   "execution_count": null,
   "metadata": {},
   "outputs": [],
   "source": [
    "random.seed(60)\n",
    "random_sample_docs = random.sample(docs, 2000)\n",
    "random_sample_docs\n",
    "\n",
    "for i, path in enumerate(random_sample_docs):\n",
    "    print(i, path)"
   ]
  },
  {
   "cell_type": "code",
   "execution_count": null,
   "metadata": {},
   "outputs": [],
   "source": [
    "docs_as_strings = []\n",
    "\n",
    "for i, doc_path in enumerate(random_sample_docs):\n",
    "    with open(doc_path, 'r') as file:\n",
    "        text = file.read()\n",
    "        \n",
    "        text = re.sub(\"\\\\xa0\", \" \", text)\n",
    "        text = re.sub(\"<tr>\", \"\", text)\n",
    "        text = re.sub(\"</tr>\", \"\", text)\n",
    "        text = re.sub(\"<td>\", \"\", text)\n",
    "        text = re.sub(\"</td>\", \"\", text)\n",
    "        text = re.sub(\"<table>\", \"\", text)\n",
    "        text = re.sub(\"</table>\", \"\", text)\n",
    "        text = re.sub(\"\\\\'\", \"'\" , text)\n",
    "        text = re.sub(\"&apos\", \"'\", text)\n",
    "        to_save = []\n",
    "        to_save.extend([i, doc_path, text])\n",
    "        docs_as_strings.append(to_save)\n",
    "        \n",
    "docs_as_strings"
   ]
  },
  {
   "cell_type": "code",
   "execution_count": null,
   "metadata": {},
   "outputs": [],
   "source": [
    "with open(\"sampled_whole_documents.csv\", \"w\", encoding='utf-8-sig') as file:\n",
    "    write = csv.writer(file) \n",
    "    write.writerows(docs_as_strings) "
   ]
  }
 ],
 "metadata": {
  "kernelspec": {
   "display_name": "Python 3",
   "language": "python",
   "name": "python3"
  },
  "language_info": {
   "codemirror_mode": {
    "name": "ipython",
    "version": 3
   },
   "file_extension": ".py",
   "mimetype": "text/x-python",
   "name": "python",
   "nbconvert_exporter": "python",
   "pygments_lexer": "ipython3",
   "version": "3.7.3"
  }
 },
 "nbformat": 4,
 "nbformat_minor": 2
}
