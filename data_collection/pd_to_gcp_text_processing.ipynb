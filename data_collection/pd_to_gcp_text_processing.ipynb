{
 "cells": [
  {
   "cell_type": "code",
   "execution_count": null,
   "metadata": {},
   "outputs": [],
   "source": [
    "import requests\n",
    "import pandas as pd\n",
    "import numpy as np\n",
    "import json\n",
    "from pandas.io.json import json_normalize\n",
    "import re\n",
    "import random\n",
    "import time as t\n",
    "from google.cloud import storage\n",
    "from bs4 import BeautifulSoup\n",
    "import os"
   ]
  },
  {
   "cell_type": "markdown",
   "metadata": {},
   "source": [
    "# Main PD to GCP Command"
   ]
  },
  {
   "cell_type": "code",
   "execution_count": null,
   "metadata": {},
   "outputs": [],
   "source": [
    "# takes the content and transfers to GCP \n",
    "# requires a json with api key\n",
    "api_key_path = 'covid_news_scrape_gcp_key.json'\n",
    "bucket = 'fan_project_news_stories'\n",
    "counter = 0\n",
    "nos = 0\n",
    "folder = 'news_dfs_3.1_3.31'\n",
    "for item in os.listdir(folder):\n",
    "    news_df = pd.read_csv('{}/{}'.format(folder, item), index_col = 0, encoding='latin-1')\n",
    "    if not news_df.empty and item not in domains_used:\n",
    "        domain = news_df['source'][0].lower()\n",
    "        if '.com' in domain or '.net' in domain:\n",
    "            domain = re.sub(\"(.com)|(.net)\", \"\", domain)\n",
    "        domain = re.sub(\" \", \"_\", domain)    \n",
    "\n",
    "        def upload_text(gcp_api_key_path, bucket_name, filename, text):\n",
    "            storage_client = storage.Client.from_service_account_json(gcp_api_key_path)\n",
    "            bucket = storage_client.get_bucket(bucket_name)\n",
    "            pathname = '{domain}/{filename}.txt'.format(domain = domain, filename = filename)\n",
    "            if not bucket.blob(pathname).exists(storage_client):\n",
    "                d = bucket.blob(pathname)\n",
    "                d.upload_from_string(text)\n",
    "            else:\n",
    "                print('{} already exists in gcp; skipping'.format(filename))\n",
    "                return\n",
    "         \n",
    "        # removes any video based links\n",
    "        news_df_no_vids = news_df[~news_df['url'].str.contains('/video')]\n",
    "        news_df_no_vids = news_df_no_vids[~news_df_no_vids['url'].str.contains('/radio')]\n",
    "        news_df_no_vids = news_df_no_vids[~news_df_no_vids['url'].str.contains('/audio')]\n",
    "        \n",
    "        #print(\"{} na rate: {}\".format(domain, news_df_no_vids['content'].isna().mean()))\n",
    "        for index, row in news_df.iterrows():\n",
    "            # construct the datetime metadata\n",
    "            date = re.sub( '-', '.', row['publishedAt'].split(\"T\",1)[0])\n",
    "            time = re.sub(\":\", '.', row['publishedAt'].split(\"T\",1)[1].split(\"Z\",1)[0])\n",
    "\n",
    "            source = re.sub(\"(.com)|(.net)\", \"\", row['source'])\n",
    "            metadata = '{}_{}.{}'.format(source, date, time)\n",
    "            full_text = row['content']\n",
    "            if type(full_text) is str and len(full_text) > 100:\n",
    "                print('index: {} uploading document {} from df\\n'.format(index, metadata))\n",
    "                upload_text(api_key_path, bucket, '{metadata}.txt'.format(metadata=metadata), full_text)\n",
    "            else:\n",
    "                nos += 1\n",
    "                print('index: {} document {} was empty and was skipped\\n'.format(index, metadata))\n",
    "            counter += 1\n",
    "            t.sleep(random.uniform(0,1))\n",
    "    domains_used.append(item)\n",
    "print(\"total: {}\\nNaNs: {}\\nNaN Rate: {}\".format(counter, nos, nos/counter) )"
   ]
  },
  {
   "cell_type": "markdown",
   "metadata": {},
   "source": [
    "# Various other scraping cells"
   ]
  },
  {
   "cell_type": "code",
   "execution_count": null,
   "metadata": {},
   "outputs": [],
   "source": []
  }
 ],
 "metadata": {
  "kernelspec": {
   "display_name": "Python 3",
   "language": "python",
   "name": "python3"
  },
  "language_info": {
   "codemirror_mode": {
    "name": "ipython",
    "version": 3
   },
   "file_extension": ".py",
   "mimetype": "text/x-python",
   "name": "python",
   "nbconvert_exporter": "python",
   "pygments_lexer": "ipython3",
   "version": "3.7.3"
  }
 },
 "nbformat": 4,
 "nbformat_minor": 2
}
