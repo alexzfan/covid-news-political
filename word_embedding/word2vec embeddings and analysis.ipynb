{
 "cells": [
  {
   "cell_type": "code",
   "execution_count": 1,
   "metadata": {},
   "outputs": [
    {
     "data": {
      "text/plain": [
       "'../all_news'"
      ]
     },
     "execution_count": 1,
     "metadata": {},
     "output_type": "execute_result"
    }
   ],
   "source": [
    "import os\n",
    "import itertools # helpful library for iterating through things\n",
    "import re\n",
    "import numpy as np\n",
    "import pandas as pd\n",
    "from pprint import pprint\n",
    "\n",
    "from nltk.tokenize import sent_tokenize, word_tokenize\n",
    "from nltk.corpus import stopwords\n",
    "from nltk.stem import WordNetLemmatizer \n",
    "\n",
    "import datetime\n",
    "\n",
    "# Gensim\n",
    "import gensim\n",
    "import gensim.corpora as corpora\n",
    "from gensim.utils import simple_preprocess\n",
    "from gensim.models import CoherenceModel\n",
    "from gensim.parsing.preprocessing import STOPWORDS\n",
    "\n",
    "from gensim.models import Word2Vec \n",
    "\n",
    "from sklearn.manifold import TSNE\n",
    "import matplotlib.pyplot as plt\n",
    "# spacy for lemmatization\n",
    "import spacy\n",
    "def head(stream, n=10):\n",
    "    return list(itertools.islice(stream, n))\n",
    "\n",
    "import shutil\n",
    "\n",
    "main_dir = \"../all_news\"\n",
    "main_dir"
   ]
  },
  {
   "cell_type": "code",
   "execution_count": 3,
   "metadata": {},
   "outputs": [],
   "source": [
    "def display_closestwords_tsnescatterplot(model, word, size):\n",
    "    \n",
    "    arr = np.empty((0,size), dtype='f')\n",
    "    word_labels = [word]\n",
    "    close_words = model.wv.similar_by_word(word)\n",
    "    arr = np.append(arr, np.array([model[word]]), axis=0)\n",
    "    for wrd_score in close_words:\n",
    "        wrd_vector = model[wrd_score[0]]\n",
    "        word_labels.append(wrd_score[0])\n",
    "        arr = np.append(arr, np.array([wrd_vector]), axis=0)\n",
    "        \n",
    "    tsne = TSNE(n_components=2, random_state=0)\n",
    "    np.set_printoptions(suppress=True)\n",
    "    Y = tsne.fit_transform(arr)\n",
    "    x_coords = Y[:, 0]\n",
    "    y_coords = Y[:, 1]\n",
    "    plt.scatter(x_coords, y_coords)\n",
    "    for label, x, y in zip(word_labels, x_coords, y_coords):\n",
    "        plt.annotate(label, xy=(x, y), xytext=(0, 0), textcoords='offset points')\n",
    "    plt.xlim(x_coords.min()+0.00005, x_coords.max()+0.00005)\n",
    "    plt.ylim(y_coords.min()+0.00005, y_coords.max()+0.00005)\n",
    "    plt.show()"
   ]
  },
  {
   "cell_type": "code",
   "execution_count": 4,
   "metadata": {},
   "outputs": [],
   "source": [
    "def measure_semantic_shift_by_neighborhood(model1,model2,word,k=25,verbose=False):\n",
    "    \"\"\"\n",
    "    Basic implementation of William Hamilton (@williamleif) et al's measure of semantic change\n",
    "    proposed in their paper \"Cultural Shift or Linguistic Drift?\" (https://arxiv.org/abs/1606.02821),\n",
    "    which they call the \"local neighborhood measure.\" They find this measure better suited to understand\n",
    "    the semantic change of nouns owing to \"cultural shift,\" or changes in meaning \"local\" to that word,\n",
    "    rather than global changes in language (\"linguistic drift\") use that are better suited to a\n",
    "    Procrustes-alignment method (also described in the same paper.)\n",
    "    Arguments are:\n",
    "    - `model1`, `model2`: Are gensim word2vec models.\n",
    "    - `word` is a sting representation of a given word.\n",
    "    - `k` is the size of the word's neighborhood (# of its closest words in its vector space).\n",
    "    \"\"\"\n",
    "    # Import function for cosine distance\n",
    "    from scipy.spatial.distance import cosine\n",
    "\n",
    "    # Check that this word is present in both models\n",
    "    if not word in model1.wv.vocab or not word in model2.wv.vocab:\n",
    "        print(\"!! Word %s not present in both models.\" % word)\n",
    "        return None\n",
    "\n",
    "    # Get the two neighborhoods\n",
    "    neighborhood1 = [w for w,c in model1.most_similar(word,topn=k)]\n",
    "    neighborhood2 = [w for w,c in model2.most_similar(word,topn=k)]\n",
    "\n",
    "    # Print?\n",
    "    if verbose:\n",
    "        print('>> Neighborhood of associations of the word \"%s\" in model1:' % word)\n",
    "        print(', '.join(neighborhood1))\n",
    "        print()\n",
    "        print('>> Neighborhood of associations of the word \"%s\" in model2:' % word)\n",
    "        print(', '.join(neighborhood2))\n",
    "\n",
    "    # Get the 'meta' neighborhood (both combined)\n",
    "    meta_neighborhood = list(set(neighborhood1)|set(neighborhood2))\n",
    "\n",
    "    # Filter the meta neighborhood so that it contains only words present in both models\n",
    "    meta_neighborhood = [w for w in meta_neighborhood if w in model1.wv.vocab and w in model2.wv.vocab]\n",
    "\n",
    "    # For both models, get a similarity vector between the focus word and all of the words in the meta neighborhood\n",
    "    vector1 = [model1.similarity(word,w) for w in meta_neighborhood]\n",
    "    vector2 = [model2.similarity(word,w) for w in meta_neighborhood]\n",
    "\n",
    "    # Compute the cosine distance *between* those similarity vectors\n",
    "    dist=cosine(vector1,vector2)\n",
    "\n",
    "    # Return this cosine distance -- a measure of the relative semantic shift for this word between these two models\n",
    "    return dist"
   ]
  },
  {
   "cell_type": "code",
   "execution_count": 5,
   "metadata": {},
   "outputs": [],
   "source": [
    "def tokenize(text):\n",
    "    return [token for token in simple_preprocess(text) if token not in STOPWORDS]"
   ]
  },
  {
   "cell_type": "code",
   "execution_count": 6,
   "metadata": {},
   "outputs": [],
   "source": [
    "def iter_docs(base_dir):\n",
    "    data = [] \n",
    "    docs = os.listdir(base_dir)\n",
    "    count =0\n",
    "    for doc in docs:\n",
    "        if not doc.startswith('.') and doc.endswith('.txt'):\n",
    "            print(count)\n",
    "            count = count + 1\n",
    "            with open(base_dir + doc, \"r\") as file:\n",
    "                text = file.read()\n",
    "                # Replaces escape character with space \n",
    "                f = text.replace(\"\\n\", \" \") \n",
    "                # iterate through each sentence in the file \n",
    "                for i in sent_tokenize(f): \n",
    "                    temp = [] \n",
    "\n",
    "                    # tokenize the sentence into words \n",
    "                    for j in word_tokenize(i): \n",
    "                        if j not in stopwords.words('english'):\n",
    "                            temp.append(j.lower()) \n",
    "                        else:\n",
    "                            continue\n",
    "\n",
    "                    data.append(temp) \n",
    "    return(data)"
   ]
  },
  {
   "cell_type": "code",
   "execution_count": 10,
   "metadata": {},
   "outputs": [],
   "source": [
    "def word2vec_embeddings(base_dir, save_dir, save_name, min_count = 1, size = 100, window = 5):\n",
    "    stream = iter_docs(base_dir)\n",
    "    model = gensim.models.Word2Vec(stream, min_count = min_count, size = size, window = window)\n",
    "    \n",
    "    save_name = save_name + \".model\"\n",
    "    name = os.path.join(save_dir, save_name) \n",
    "    \n",
    "    \n",
    "    if not os.path.isdir(save_dir):\n",
    "        os.mkdir(save_dir)\n",
    "    model.save(name)\n",
    "    \n",
    "    return(model)"
   ]
  },
  {
   "cell_type": "markdown",
   "metadata": {},
   "source": [
    "# Full Corpus Embeddings"
   ]
  },
  {
   "cell_type": "code",
   "execution_count": 11,
   "metadata": {},
   "outputs": [
    {
     "name": "stdout",
     "output_type": "stream",
     "text": [
      "0\n",
      "1\n",
      "2\n",
      "3\n",
      "4\n",
      "5\n",
      "6\n",
      "7\n",
      "8\n",
      "9\n",
      "10\n",
      "11\n",
      "12\n",
      "13\n",
      "14\n",
      "15\n",
      "16\n",
      "17\n",
      "18\n",
      "19\n",
      "20\n",
      "21\n",
      "22\n",
      "23\n",
      "24\n",
      "25\n",
      "26\n",
      "27\n",
      "28\n",
      "29\n",
      "30\n",
      "31\n",
      "32\n",
      "33\n",
      "34\n",
      "35\n",
      "36\n",
      "37\n",
      "38\n",
      "39\n",
      "40\n",
      "41\n",
      "42\n",
      "43\n",
      "44\n",
      "45\n",
      "46\n",
      "47\n",
      "48\n",
      "49\n",
      "50\n",
      "51\n",
      "52\n",
      "53\n",
      "54\n",
      "55\n",
      "56\n",
      "57\n",
      "58\n",
      "59\n",
      "60\n",
      "61\n",
      "62\n",
      "63\n",
      "64\n",
      "65\n",
      "66\n",
      "67\n",
      "68\n",
      "69\n",
      "70\n",
      "71\n",
      "72\n",
      "73\n",
      "74\n",
      "75\n",
      "76\n",
      "77\n",
      "78\n",
      "79\n",
      "80\n",
      "81\n",
      "82\n",
      "83\n",
      "84\n",
      "85\n",
      "86\n",
      "87\n",
      "88\n",
      "89\n",
      "90\n",
      "91\n",
      "92\n",
      "93\n",
      "94\n",
      "95\n",
      "96\n",
      "97\n",
      "98\n",
      "99\n",
      "100\n",
      "101\n",
      "102\n",
      "103\n",
      "104\n",
      "105\n"
     ]
    }
   ],
   "source": [
    "overall_model = word2vec_embeddings(\"../topic_model/test/\", \"./overall_files\", \"overall\")"
   ]
  },
  {
   "cell_type": "code",
   "execution_count": 12,
   "metadata": {},
   "outputs": [
    {
     "name": "stderr",
     "output_type": "stream",
     "text": [
      "/Users/alexfan/anaconda3/lib/python3.7/site-packages/ipykernel_launcher.py:6: DeprecationWarning: Call to deprecated `__getitem__` (Method will be removed in 4.0.0, use self.wv.__getitem__() instead).\n",
      "  \n",
      "/Users/alexfan/anaconda3/lib/python3.7/site-packages/ipykernel_launcher.py:8: DeprecationWarning: Call to deprecated `__getitem__` (Method will be removed in 4.0.0, use self.wv.__getitem__() instead).\n",
      "  \n"
     ]
    },
    {
     "data": {
      "image/png": "[encoded data removed]",
      "text/plain": [
       "<Figure size 432x288 with 1 Axes>"
      ]
     },
     "metadata": {
      "needs_background": "light"
     },
     "output_type": "display_data"
    }
   ],
   "source": [
    "display_closestwords_tsnescatterplot(overall_model, \"coronavirus\", 100)"
   ]
  },
  {
   "cell_type": "markdown",
   "metadata": {},
   "source": [
    "# Embeddings by Source Lean Buckets"
   ]
  },
  {
   "cell_type": "code",
   "execution_count": null,
   "metadata": {},
   "outputs": [],
   "source": [
    "folder_list = []\n",
    "for folder in sorted(os.listdir('../fan_project_news_stories')):\n",
    "    if not folder.startswith(\".\"):\n",
    "        if len([name for name in os.listdir('../fan_project_news_stories/' + folder)]) > 100 and folder != \"investor's_business_daily\" and folder != \"twincities-pioneer_press\" and folder != \"austin_american-statesman\":\n",
    "            folder_list.append(folder)\n",
    "folder_list_series = pd.Series(folder_list, name = 'folder')"
   ]
  },
  {
   "cell_type": "code",
   "execution_count": null,
   "metadata": {},
   "outputs": [],
   "source": [
    "# should append 1:1 because both are sorted\n",
    "source_biases = pd.read_csv('../topic_model/topic_averages_w_biases_new.csv')\n",
    "source_biases['folder_name'] = folder_list_series"
   ]
  },
  {
   "cell_type": "code",
   "execution_count": null,
   "metadata": {},
   "outputs": [],
   "source": [
    "# create list of directories based on source bias bucket series\n",
    "to_dir = source_biases['lean_buckets'].unique().tolist()\n",
    "news_source_split_name = \"../news_source_splits\"\n",
    "\n",
    "for directory in to_dir:\n",
    "    path = os.path.join(news_source_split_name, directory)\n",
    "    print(path)\n",
    "    if not os.path.isdir(path):\n",
    "        os.mkdir(os.path.join(news_source_split_name, directory))\n",
    "    "
   ]
  },
  {
   "cell_type": "code",
   "execution_count": null,
   "metadata": {},
   "outputs": [],
   "source": [
    "for split in os.listdir(\"../news_source_splits\"):\n",
    "    print(\"{}: {}\".format(split, len(os.listdir(os.path.join(news_source_split_name, split)))))"
   ]
  },
  {
   "cell_type": "code",
   "execution_count": null,
   "metadata": {},
   "outputs": [],
   "source": [
    "# move text to new folder\n",
    "for folder in sorted(os.listdir('../fan_project_news_stories')):\n",
    "    if not folder.startswith(\".\") and folder in source_biases['folder_name'].tolist():\n",
    "        \n",
    "        # locate the bias label\n",
    "        source_bias = source_biases.loc[source_biases['folder_name'] == folder, 'lean_buckets'].iloc[0]\n",
    "        \n",
    "        # move the docs in news source folder to new bias split designations\n",
    "        for doc in os.listdir(\"../fan_project_news_stories/\" + folder):\n",
    "            \n",
    "            if doc.endswith(\".txt\"):\n",
    "                shutil.copy2(\"../fan_project_news_stories/\" + folder + \"/\" + doc, \n",
    "                  os.path.join('{}/{}'.format(news_source_split_name, source_bias))\n",
    "                )\n",
    "            "
   ]
  },
  {
   "cell_type": "code",
   "execution_count": null,
   "metadata": {},
   "outputs": [],
   "source": [
    "# make the word embeddings\n",
    "model_source_dir_name = './word2vec_mini_models_by_time'\n",
    "\n",
    "if not os.path.isdir(model_source_dir_name):\n",
    "    os.mkdir(model_source_dir_name)\n",
    "for directory in to_dir:\n",
    "    path = os.path.join(news_source_split_name, directory)+'/'\n",
    "    print(path)\n",
    "    stream = iter_docs(path)\n",
    "    model1 = gensim.models.Word2Vec(stream, min_count = 1,  \n",
    "                              size = 100, window = 5) \n",
    "    model1.save(\"{}/{}_word2vec.model\".format(model_source_dir_name, directory))\n",
    "    "
   ]
  },
  {
   "cell_type": "code",
   "execution_count": null,
   "metadata": {},
   "outputs": [],
   "source": [
    "models = {}\n",
    "for model in os.listdir(model_source_dir_name):\n",
    "    # reads in models into a dict, ignoring any of the residual trainable files\n",
    "    if model.endswith(\".model\") and not model.endswith(\".trainables\"):\n",
    "        models[model] = Word2Vec.load(model_source_dir_name + \"/\" + model)"
   ]
  },
  {
   "cell_type": "code",
   "execution_count": null,
   "metadata": {},
   "outputs": [],
   "source": [
    "for key, value in models.items():\n",
    "    word = \"mask\"\n",
    "    print(key)\n",
    "    \n",
    "    if not word in value.wv.vocab:\n",
    "        print(word + \" not in the vocabulary of the model\")\n",
    "        continue\n",
    "    \n",
    "    display_closestwords_tsnescatterplot(value, word, 100)\n",
    "    print(\"\\n\")"
   ]
  },
  {
   "cell_type": "code",
   "execution_count": null,
   "metadata": {},
   "outputs": [],
   "source": [
    "measure_semantic_shift_by_neighborhood(models['left_leaning_word2vec.model'],\n",
    "                                       models['right_leaning_word2vec.model'], \"plandemic\", verbose = True)"
   ]
  },
  {
   "cell_type": "markdown",
   "metadata": {},
   "source": [
    "# Embeddings by Time"
   ]
  },
  {
   "cell_type": "code",
   "execution_count": null,
   "metadata": {},
   "outputs": [],
   "source": [
    "## create new directory separated by date\n",
    "doc_name = []\n",
    "full_path_name = []\n",
    "for news_source in os.listdir(\"../all_news\"):\n",
    "    if not news_source.startswith('.'):\n",
    "        path = os.path.join(\"../all_news\", news_source)\n",
    "        full_path_name.append(path)\n",
    "        doc_name.append(news_source)\n",
    "\n",
    "    "
   ]
  },
  {
   "cell_type": "code",
   "execution_count": null,
   "metadata": {},
   "outputs": [],
   "source": [
    "news_df = pd.DataFrame(list(zip(full_path_name, doc_name)), columns=['full_path_name', 'name'])\n",
    "news_df['date'] = news_df['name'].str.split(pat=\"_\").str[1]\n",
    "\n",
    "# clean date\n",
    "news_df['year'] =  news_df['date'].str.split(pat=\".\").str[0]\n",
    "news_df['month'] =  news_df['date'].str.split(pat=\".\").str[1]\n",
    "news_df['day'] =  news_df['date'].str.split(pat=\".\").str[2]\n",
    "news_df['date_clean'] = news_df['year'] + news_df['month'] + news_df['day']\n",
    "news_df['date_clean'] = pd.to_datetime(news_df['date_clean'], format=\"%Y%m%d\")"
   ]
  },
  {
   "cell_type": "code",
   "execution_count": null,
   "metadata": {},
   "outputs": [],
   "source": [
    "# remove any null dates\n",
    "news_df = news_df[pd.notnull(news_df.date_clean)]"
   ]
  },
  {
   "cell_type": "code",
   "execution_count": null,
   "metadata": {},
   "outputs": [],
   "source": [
    "# construct buckets\n",
    "news_df.loc[(news_df['date_clean'] >= datetime.datetime(2020, 1, 1)) & (news_df['date_clean'] < datetime.datetime(2020, 2, 1)), 'time_period'] = 'Jan_2020'\n",
    "news_df.loc[(news_df['date_clean'] >= datetime.datetime(2020, 2, 1)) & (news_df['date_clean'] < datetime.datetime(2020, 3, 1)), 'time_period'] = 'Feb_2020'\n",
    "news_df.loc[(news_df['date_clean'] >= datetime.datetime(2020, 3, 1)) & (news_df['date_clean'] < datetime.datetime(2020, 4, 1)), 'time_period'] = 'Mar_2020'\n",
    "news_df.loc[(news_df['date_clean'] >= datetime.datetime(2020, 4, 1)) & (news_df['date_clean'] < datetime.datetime(2020, 5, 1)), 'time_period'] = 'Apr_2020'\n",
    "news_df.loc[(news_df['date_clean'] >= datetime.datetime(2020, 5, 1)) & (news_df['date_clean'] < datetime.datetime(2020, 6, 1)), 'time_period'] = 'May_2020'\n",
    "news_df.loc[(news_df['date_clean'] >= datetime.datetime(2020, 6, 1)) & (news_df['date_clean'] < datetime.datetime(2020, 7, 1)), 'time_period'] = 'Jun_2020'\n",
    "news_df.loc[(news_df['date_clean'] >= datetime.datetime(2020, 7, 1)) & (news_df['date_clean'] < datetime.datetime(2020, 8, 1)), 'time_period'] = 'Jul_2020'\n",
    "news_df.loc[(news_df['date_clean'] >= datetime.datetime(2020, 8, 1)) & (news_df['date_clean'] < datetime.datetime(2020, 9, 1)), 'time_period'] = 'Aug_2020'\n",
    "news_df.loc[(news_df['date_clean'] >= datetime.datetime(2020, 9, 1)) & (news_df['date_clean'] < datetime.datetime(2020, 10, 1)), 'time_period'] = 'Sept_2020'\n",
    "news_df.loc[(news_df['date_clean'] >= datetime.datetime(2020, 10, 1)) & (news_df['date_clean'] < datetime.datetime(2020, 11, 1)), 'time_period'] = 'Oct_2020'\n",
    "news_df.loc[(news_df['date_clean'] >= datetime.datetime(2020, 11, 1)) & (news_df['date_clean'] < datetime.datetime(2020, 12, 1)), 'time_period'] = 'Nov_2020'\n",
    "news_df.loc[(news_df['date_clean'] >= datetime.datetime(2020, 12, 1)), 'time_period'] = 'Dec_2020'\n"
   ]
  },
  {
   "cell_type": "code",
   "execution_count": null,
   "metadata": {},
   "outputs": [],
   "source": [
    "to_dir = news_df['time_period'].unique().tolist()\n",
    "to_dir"
   ]
  },
  {
   "cell_type": "code",
   "execution_count": null,
   "metadata": {},
   "outputs": [],
   "source": [
    "# make directories\n",
    "news_time_split_name = \"../news_time_splits\"\n",
    "\n",
    "for directory in to_dir:\n",
    "    path = os.path.join(news_time_split_name, directory)\n",
    "    print(path)\n",
    "    if not os.path.isdir(path):\n",
    "        os.mkdir(os.path.join(news_time_split_name, directory))\n",
    "    "
   ]
  },
  {
   "cell_type": "code",
   "execution_count": null,
   "metadata": {},
   "outputs": [],
   "source": [
    "# move text to new folder\n",
    "for index, doc in news_df.iterrows():\n",
    "    #print(os.path.join('../all_news_1106/fan_project_news_stories_by_date/{}'.format(doc['time_period']), doc['name']))\n",
    "    shutil.copy2(doc['full_path_name'], \n",
    "                  os.path.join(news_time_split_name, doc['time_period'], doc['name'])\n",
    "                )"
   ]
  },
  {
   "cell_type": "code",
   "execution_count": null,
   "metadata": {},
   "outputs": [],
   "source": [
    "model_time_dir_name = './word2vec_mini_models_by_time'\n",
    "if not os.path.isdir(model_time_dir_name):\n",
    "    os.mkdir(model_time_dir_name)\n",
    "for directory in to_dir:\n",
    "    path = os.path.join(news_time_split_name, directory)+'/'\n",
    "    print(path)\n",
    "    stream = iter_docs(path)\n",
    "    model1 = gensim.models.Word2Vec(stream, min_count = 1,  \n",
    "                              size = 100, window = 5) \n",
    "    model1.save(\"{}/{}_word2vec.model\".format(model_time_dir_name, directory))\n",
    "    "
   ]
  },
  {
   "cell_type": "code",
   "execution_count": null,
   "metadata": {},
   "outputs": [],
   "source": [
    "models_time = {}\n",
    "for model in os.listdir(model_time_dir_name):\n",
    "    # reads in models into a dict, ignoring any of the residual trainable files\n",
    "    if model.endswith(\".model\") and not model.endswith(\".trainables\"):\n",
    "        models[model] = Word2Vec.load(model_time_dir_name + '/'+ model)"
   ]
  },
  {
   "cell_type": "code",
   "execution_count": null,
   "metadata": {},
   "outputs": [],
   "source": [
    "for key, value in models_time.items():\n",
    "    word = \"mask\"\n",
    "    print(key)\n",
    "    \n",
    "    if not word in value.wv.vocab:\n",
    "        print(word + \" not in the vocabulary of the model\")\n",
    "        continue\n",
    "    \n",
    "    display_closestwords_tsnescatterplot(value, word, 100)\n",
    "    print(\"\\n\")"
   ]
  }
 ],
 "metadata": {
  "kernelspec": {
   "display_name": "Python 3",
   "language": "python",
   "name": "python3"
  },
  "language_info": {
   "codemirror_mode": {
    "name": "ipython",
    "version": 3
   },
   "file_extension": ".py",
   "mimetype": "text/x-python",
   "name": "python",
   "nbconvert_exporter": "python",
   "pygments_lexer": "ipython3",
   "version": "3.7.3"
  }
 },
 "nbformat": 4,
 "nbformat_minor": 2
}
