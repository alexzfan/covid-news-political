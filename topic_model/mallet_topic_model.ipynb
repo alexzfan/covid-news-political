{
 "cells": [
  {
   "cell_type": "code",
   "execution_count": 1,
   "metadata": {},
   "outputs": [],
   "source": [
    "import os\n",
    "import itertools # helpful library for iterating through things\n",
    "import re\n",
    "import numpy as np\n",
    "import pandas as pd\n",
    "from pprint import pprint\n",
    "\n",
    "# Gensim\n",
    "import gensim\n",
    "import gensim.corpora as corpora\n",
    "from gensim.utils import simple_preprocess\n",
    "from gensim.models import CoherenceModel\n",
    "from gensim.parsing.preprocessing import STOPWORDS\n",
    "\n",
    "# spacy for lemmatization\n",
    "import spacy\n",
    "def head(stream, n=10):\n",
    "    return list(itertools.islice(stream, n))\n",
    "\n",
    "\n",
    "import subprocess"
   ]
  },
  {
   "cell_type": "code",
   "execution_count": 2,
   "metadata": {},
   "outputs": [],
   "source": [
    "# tokenize text\n",
    "def tokenize(text):\n",
    "    return [token for token in simple_preprocess(text) if token not in STOPWORDS]"
   ]
  },
  {
   "cell_type": "code",
   "execution_count": 3,
   "metadata": {},
   "outputs": [],
   "source": [
    "def iter_docs(base_dir):\n",
    "    docCount = 0\n",
    "    docs = os.listdir(base_dir)\n",
    "\n",
    "    for doc in docs:\n",
    "        if not doc.startswith('.'):\n",
    "            with open(base_dir + doc, \"r\") as file:\n",
    "                text = file.read()\n",
    "                tokens = tokenize(text) \n",
    "        \n",
    "                yield doc, tokens"
   ]
  },
  {
   "cell_type": "code",
   "execution_count": 4,
   "metadata": {},
   "outputs": [],
   "source": [
    "from gensim.models.wrappers import LdaMallet\n",
    "os.environ.update({'MALLET_HOME':r'./mallet-2.0.8/'}) \n",
    "#You should update this path as per the path of Mallet directory on your system.\n",
    "mallet_path = r'./mallet-2.0.8/bin/mallet' "
   ]
  },
  {
   "cell_type": "code",
   "execution_count": 5,
   "metadata": {},
   "outputs": [],
   "source": [
    "doc_stream = (tokens for _, tokens in iter_docs('./test/'))\n",
    "              \n",
    "id2word_news = gensim.corpora.Dictionary(doc_stream) "
   ]
  },
  {
   "cell_type": "code",
   "execution_count": 6,
   "metadata": {},
   "outputs": [],
   "source": [
    "class Corpus(object):\n",
    "    def __init__(self, dump_file, dictionary, clip_docs=None):\n",
    "        self.dump_file = dump_file\n",
    "        self.dictionary = dictionary\n",
    "        self.clip_docs = clip_docs\n",
    "    \n",
    "    def __iter__(self):\n",
    "        self.titles = []\n",
    "        for title, tokens in itertools.islice(iter_docs(self.dump_file), self.clip_docs):\n",
    "            self.titles.append(title)\n",
    "            yield self.dictionary.doc2bow(tokens)\n",
    "    \n",
    "    def __len__(self):\n",
    "        return self.clip_docs"
   ]
  },
  {
   "cell_type": "code",
   "execution_count": 7,
   "metadata": {},
   "outputs": [],
   "source": [
    "news_corpus = Corpus('./test/', id2word_news)"
   ]
  },
  {
   "cell_type": "code",
   "execution_count": 8,
   "metadata": {},
   "outputs": [
    {
     "name": "stdout",
     "output_type": "stream",
     "text": [
      "[(4,\n",
      "  [('china', 0.035126722987994664),\n",
      "   ('news', 0.024899955535793685),\n",
      "   ('beijing', 0.018674966651845263),\n",
      "   ('foreign', 0.01600711427301023),\n",
      "   ('reporters', 0.011116051578479324),\n",
      "   ('coverage', 0.011116051578479324),\n",
      "   ('credentials', 0.01067140951534015),\n",
      "   ('street', 0.009337483325922631),\n",
      "   ('wrote', 0.008892841262783458),\n",
      "   ('journal', 0.008892841262783458)]),\n",
      " (12,\n",
      "  [('mail', 0.022072189041807324),\n",
      "   ('federal', 0.017398078421189303),\n",
      "   ('safety', 0.01428200467411062),\n",
      "   ('west', 0.01428200467411062),\n",
      "   ('ballots', 0.011685276551545054),\n",
      "   ('results', 0.010906258114775382),\n",
      "   ('states', 0.010646585302518826),\n",
      "   ('coronavirus', 0.009867566865749156),\n",
      "   ('schools', 0.00882887561672293),\n",
      "   ('leaders', 0.008569202804466372)]),\n",
      " (18,\n",
      "  [('hong', 0.061009077475195274),\n",
      "   ('kong', 0.054042643023010345),\n",
      "   ('government', 0.012455140384209416),\n",
      "   ('china', 0.011399620012666244),\n",
      "   ('mainland', 0.009921891492505806),\n",
      "   ('immigration', 0.008866371120962635),\n",
      "   ('law', 0.008866371120962635),\n",
      "   ('post', 0.007599746675110829),\n",
      "   ('citys', 0.007599746675110829),\n",
      "   ('kongs', 0.007599746675110829)]),\n",
      " (2,\n",
      "  [('school', 0.08214285714285714),\n",
      "   ('bus', 0.062142857142857146),\n",
      "   ('drive', 0.061785714285714284),\n",
      "   ('elementary', 0.024285714285714285),\n",
      "   ('lunch', 0.01892857142857143),\n",
      "   ('breakfast', 0.018214285714285714),\n",
      "   ('meals', 0.0175),\n",
      "   ('schools', 0.015357142857142857),\n",
      "   ('lot', 0.012857142857142857),\n",
      "   ('ave', 0.012142857142857143)]),\n",
      " (9,\n",
      "  [('hong', 0.0532258064516129),\n",
      "   ('kong', 0.04774193548387097),\n",
      "   ('independence', 0.01806451612903226),\n",
      "   ('people', 0.017419354838709676),\n",
      "   ('beijing', 0.014838709677419355),\n",
      "   ('city', 0.011935483870967743),\n",
      "   ('time', 0.01096774193548387),\n",
      "   ('china', 0.01096774193548387),\n",
      "   ('year', 0.01064516129032258),\n",
      "   ('national', 0.01032258064516129)]),\n",
      " (8,\n",
      "  [('li', 0.09167069437731594),\n",
      "   ('school', 0.0712099242790398),\n",
      "   ('nashville', 0.05010472047688094),\n",
      "   ('tn', 0.02787175769292734),\n",
      "   ('elementary', 0.024327372321572418),\n",
      "   ('middle', 0.022716288061865635),\n",
      "   ('coronavirus', 0.018044143708715966),\n",
      "   ('ave', 0.01675527630095054),\n",
      "   ('families', 0.01578862574512647),\n",
      "   ('schools', 0.015466408893185114)]),\n",
      " (6,\n",
      "  [('office', 0.01837270341207349),\n",
      "   ('people', 0.015091863517060367),\n",
      "   ('life', 0.013123359580052493),\n",
      "   ('work', 0.012904636920384951),\n",
      "   ('roy', 0.010498687664041995),\n",
      "   ('care', 0.009405074365704287),\n",
      "   ('dont', 0.009186351706036745),\n",
      "   ('space', 0.008092738407699038),\n",
      "   ('person', 0.007874015748031496),\n",
      "   ('boston', 0.007874015748031496)]),\n",
      " (1,\n",
      "  [('jones', 0.04006677796327212),\n",
      "   ('judge', 0.03672787979966611),\n",
      "   ('red', 0.01669449081803005),\n",
      "   ('bit', 0.013912075681691708),\n",
      "   ('guy', 0.01335559265442404),\n",
      "   ('point', 0.011129660545353366),\n",
      "   ('jersey', 0.01001669449081803),\n",
      "   ('year', 0.01001669449081803),\n",
      "   ('season', 0.01001669449081803),\n",
      "   ('quarterback', 0.01001669449081803)]),\n",
      " (7,\n",
      "  [('police', 0.027002700270027002),\n",
      "   ('paris', 0.027002700270027002),\n",
      "   ('yellow', 0.021602160216021602),\n",
      "   ('protestors', 0.021602160216021602),\n",
      "   ('french', 0.018001800180018002),\n",
      "   ('protests', 0.016201620162016202),\n",
      "   ('showed', 0.016201620162016202),\n",
      "   ('movement', 0.016201620162016202),\n",
      "   ('jackets', 0.016201620162016202),\n",
      "   ('government', 0.012601260126012601)]),\n",
      " (0,\n",
      "  [('company', 0.03440725680325305),\n",
      "   ('cohen', 0.026274632467938694),\n",
      "   ('mallett', 0.020957147325617768),\n",
      "   ('people', 0.016265248670628715),\n",
      "   ('ezcater', 0.01563966218329684),\n",
      "   ('day', 0.013450109477635284),\n",
      "   ('layoffs', 0.013450109477635284),\n",
      "   ('zoom', 0.013450109477635284),\n",
      "   ('work', 0.012198936502971536),\n",
      "   ('job', 0.011573350015639663)])]\n"
     ]
    }
   ],
   "source": [
    "ldamallet = gensim.models.wrappers.LdaMallet(\n",
    "   mallet_path, corpus=news_corpus, num_topics=20, id2word=id2word_news\n",
    ")\n",
    "pprint(ldamallet.show_topics(formatted=False))"
   ]
  },
  {
   "cell_type": "markdown",
   "metadata": {},
   "source": [
    "# Mallet Topic Coherence Value Testing"
   ]
  },
  {
   "cell_type": "code",
   "execution_count": null,
   "metadata": {},
   "outputs": [],
   "source": [
    "def compute_coherence_values(dictionary, corpus, limit, start=2, step=3):\n",
    "    \"\"\"\n",
    "    Compute u_mass coherence for various number of topics\n",
    "\n",
    "    Parameters:\n",
    "    ----------\n",
    "    dictionary : Gensim dictionary\n",
    "    corpus : Gensim corpus\n",
    "    limit : Max num of topics\n",
    "\n",
    "    Returns:\n",
    "    -------\n",
    "    model_list : List of LDA topic models\n",
    "    coherence_values : Coherence values corresponding to the LDA model with respective number of topics\n",
    "    \"\"\"\n",
    "    coherence_values = []\n",
    "    model_list = []\n",
    "    for num_topics in range(start, limit, step):\n",
    "        model = gensim.models.wrappers.LdaMallet(mallet_path, corpus=corpus, num_topics=num_topics, id2word=id2word_news)\n",
    "        model_list.append(model)\n",
    "        coherencemodel = CoherenceModel(model=model, corpus=corpus, dictionary=dictionary, coherence='u_mass')\n",
    "        coherence_values.append(coherencemodel.get_coherence())\n",
    "\n",
    "    return model_list, coherence_values"
   ]
  },
  {
   "cell_type": "code",
   "execution_count": null,
   "metadata": {},
   "outputs": [],
   "source": [
    "model_list, coherence_values = compute_coherence_values(dictionary=id2word_news, corpus=news_corpus, start=2, limit=32, step=5)"
   ]
  },
  {
   "cell_type": "code",
   "execution_count": null,
   "metadata": {},
   "outputs": [],
   "source": [
    "%matplotlib inline\n",
    "import matplotlib.pyplot as plt\n",
    "limit=32; start=2; step=5;\n",
    "x = range(start, limit, step)\n",
    "plt.plot(x, coherence_values)\n",
    "plt.xlabel(\"Num Topics\")\n",
    "plt.ylabel(\"Coherence score\")\n",
    "plt.legend((\"coherence_values\"), loc='best')\n",
    "plt.show()"
   ]
  },
  {
   "cell_type": "code",
   "execution_count": 16,
   "metadata": {},
   "outputs": [],
   "source": [
    "inputDir = \"./test/\"\n",
    "TXTFiles_MalletFormatted_FileName = \"./covid_news_malletformatted_txt_files.mallet\"\n",
    "numTopics = 20\n",
    "Compressed_FileName = \"./covid_news_NLP-Mallet_Output_Compressed.gz\"\n",
    "Keys_FileName = \"./covid_news_NLP-Mallet_Output_Keys.tsv\"\n",
    "Composition_FileName = './covid_news_NLP-Mallet_Output_Composition.tsv'"
   ]
  },
  {
   "cell_type": "code",
   "execution_count": 17,
   "metadata": {},
   "outputs": [
    {
     "data": {
      "text/plain": [
       "0"
      ]
     },
     "execution_count": 17,
     "metadata": {},
     "output_type": "execute_result"
    }
   ],
   "source": [
    "subprocess.call([mallet_path, \n",
    "                 'import-dir', \n",
    "                 '--input', inputDir, \n",
    "                 '--output', TXTFiles_MalletFormatted_FileName, \n",
    "                 '--keep-sequence', \n",
    "                 '--remove-stopwords'])\n",
    "\n",
    "subprocess.call([mallet_path, \n",
    "                 'train-topics', '--input', \n",
    "                 TXTFiles_MalletFormatted_FileName, \n",
    "                 '--num-topics', str(numTopics), \n",
    "                 '--optimize-interval', str(numTopics), \n",
    "                 '--output-state', Compressed_FileName, \n",
    "                 '--output-topic-keys', Keys_FileName, \n",
    "                 '--output-doc-topics', Composition_FileName])\n"
   ]
  },
  {
   "cell_type": "code",
   "execution_count": null,
   "metadata": {},
   "outputs": [],
   "source": []
  }
 ],
 "metadata": {
  "kernelspec": {
   "display_name": "Python 3",
   "language": "python",
   "name": "python3"
  },
  "language_info": {
   "codemirror_mode": {
    "name": "ipython",
    "version": 3
   },
   "file_extension": ".py",
   "mimetype": "text/x-python",
   "name": "python",
   "nbconvert_exporter": "python",
   "pygments_lexer": "ipython3",
   "version": "3.7.3"
  }
 },
 "nbformat": 4,
 "nbformat_minor": 2
}
